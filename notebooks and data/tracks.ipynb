{
 "cells": [
  {
   "cell_type": "code",
   "execution_count": 301,
   "metadata": {},
   "outputs": [],
   "source": [
    "import pandas as pd"
   ]
  },
  {
   "cell_type": "code",
   "execution_count": 302,
   "metadata": {},
   "outputs": [
    {
     "data": {
      "text/html": [
       "<div>\n",
       "<style scoped>\n",
       "    .dataframe tbody tr th:only-of-type {\n",
       "        vertical-align: middle;\n",
       "    }\n",
       "\n",
       "    .dataframe tbody tr th {\n",
       "        vertical-align: top;\n",
       "    }\n",
       "\n",
       "    .dataframe thead th {\n",
       "        text-align: right;\n",
       "    }\n",
       "</style>\n",
       "<table border=\"1\" class=\"dataframe\">\n",
       "  <thead>\n",
       "    <tr style=\"text-align: right;\">\n",
       "      <th></th>\n",
       "      <th>Year</th>\n",
       "      <th>Team Name</th>\n",
       "      <th>Wiki</th>\n",
       "      <th>Region</th>\n",
       "      <th>Location</th>\n",
       "      <th>Institution</th>\n",
       "      <th>Section</th>\n",
       "      <th>Application</th>\n",
       "      <th>Project Title</th>\n",
       "      <th>Track</th>\n",
       "      <th>Abstract</th>\n",
       "      <th>Parts</th>\n",
       "      <th>Medal</th>\n",
       "      <th>Nominations</th>\n",
       "      <th>Awards</th>\n",
       "    </tr>\n",
       "  </thead>\n",
       "  <tbody>\n",
       "    <tr>\n",
       "      <th>0</th>\n",
       "      <td>2012</td>\n",
       "      <td>Buenos Aires</td>\n",
       "      <td>http://2012.igem.org/Team:Buenos_Aires</td>\n",
       "      <td>latin-america</td>\n",
       "      <td>Argentina</td>\n",
       "      <td>Universidad de Buenos Aires</td>\n",
       "      <td>Undergrad</td>\n",
       "      <td>NaN</td>\n",
       "      <td>Synthetic ecology</td>\n",
       "      <td>Foundational Advance</td>\n",
       "      <td>We aimed to create a stable community of micro...</td>\n",
       "      <td>http://parts.igem.org/cgi/partsdb/pgroup.cgi?p...</td>\n",
       "      <td>Bronze</td>\n",
       "      <td>-</td>\n",
       "      <td>Advance to Championship</td>\n",
       "    </tr>\n",
       "    <tr>\n",
       "      <th>1</th>\n",
       "      <td>2013</td>\n",
       "      <td>Buenos Aires</td>\n",
       "      <td>http://2013.igem.org/Team:Buenos_Aires</td>\n",
       "      <td>latin-america</td>\n",
       "      <td>Argentina</td>\n",
       "      <td>Universidad de Buenos Aires</td>\n",
       "      <td>Overgrad</td>\n",
       "      <td>NaN</td>\n",
       "      <td>To drink or not to drink</td>\n",
       "      <td>Environment</td>\n",
       "      <td>Our project is focused on developing a biosens...</td>\n",
       "      <td>http://parts.igem.org/cgi/partsdb/pgroup.cgi?p...</td>\n",
       "      <td>Gold</td>\n",
       "      <td>-</td>\n",
       "      <td>Advance to Championship, Regional Finalist (La...</td>\n",
       "    </tr>\n",
       "    <tr>\n",
       "      <th>2</th>\n",
       "      <td>2007</td>\n",
       "      <td>Melbourne</td>\n",
       "      <td>http://2007.igem.org/Melbourne</td>\n",
       "      <td>asia</td>\n",
       "      <td>Australia</td>\n",
       "      <td>University of Melbourne</td>\n",
       "      <td>Undergrad</td>\n",
       "      <td>NaN</td>\n",
       "      <td>COLIFORMING</td>\n",
       "      <td>The formation of complex scaffolds of extracel...</td>\n",
       "      <td>-</td>\n",
       "      <td>-</td>\n",
       "      <td>Gold</td>\n",
       "      <td>-</td>\n",
       "      <td>Best BioBrick Part</td>\n",
       "    </tr>\n",
       "  </tbody>\n",
       "</table>\n",
       "</div>"
      ],
      "text/plain": [
       "   Year     Team Name                                    Wiki         Region  \\\n",
       "0  2012  Buenos Aires  http://2012.igem.org/Team:Buenos_Aires  latin-america   \n",
       "1  2013  Buenos Aires  http://2013.igem.org/Team:Buenos_Aires  latin-america   \n",
       "2  2007     Melbourne          http://2007.igem.org/Melbourne           asia   \n",
       "\n",
       "    Location                  Institution    Section Application  \\\n",
       "0  Argentina  Universidad de Buenos Aires  Undergrad         NaN   \n",
       "1  Argentina  Universidad de Buenos Aires   Overgrad         NaN   \n",
       "2  Australia      University of Melbourne  Undergrad         NaN   \n",
       "\n",
       "              Project Title  \\\n",
       "0         Synthetic ecology   \n",
       "1  To drink or not to drink   \n",
       "2               COLIFORMING   \n",
       "\n",
       "                                               Track  \\\n",
       "0                               Foundational Advance   \n",
       "1                                        Environment   \n",
       "2  The formation of complex scaffolds of extracel...   \n",
       "\n",
       "                                            Abstract  \\\n",
       "0  We aimed to create a stable community of micro...   \n",
       "1  Our project is focused on developing a biosens...   \n",
       "2                                                  -   \n",
       "\n",
       "                                               Parts   Medal Nominations  \\\n",
       "0  http://parts.igem.org/cgi/partsdb/pgroup.cgi?p...  Bronze           -   \n",
       "1  http://parts.igem.org/cgi/partsdb/pgroup.cgi?p...    Gold           -   \n",
       "2                                                  -    Gold           -   \n",
       "\n",
       "                                              Awards  \n",
       "0                            Advance to Championship  \n",
       "1  Advance to Championship, Regional Finalist (La...  \n",
       "2                                 Best BioBrick Part  "
      ]
     },
     "execution_count": 302,
     "metadata": {},
     "output_type": "execute_result"
    }
   ],
   "source": [
    "data = pd.read_csv('IGEM_teams_2004-2024.csv')\n",
    "data.head(3)"
   ]
  },
  {
   "cell_type": "code",
   "execution_count": 303,
   "metadata": {},
   "outputs": [],
   "source": [
    "tracks = pd.read_csv('tracks.csv', index_col=0)['category'].to_dict()"
   ]
  },
  {
   "cell_type": "code",
   "execution_count": 304,
   "metadata": {},
   "outputs": [
    {
     "data": {
      "text/html": [
       "<div>\n",
       "<style scoped>\n",
       "    .dataframe tbody tr th:only-of-type {\n",
       "        vertical-align: middle;\n",
       "    }\n",
       "\n",
       "    .dataframe tbody tr th {\n",
       "        vertical-align: top;\n",
       "    }\n",
       "\n",
       "    .dataframe thead th {\n",
       "        text-align: right;\n",
       "    }\n",
       "</style>\n",
       "<table border=\"1\" class=\"dataframe\">\n",
       "  <thead>\n",
       "    <tr style=\"text-align: right;\">\n",
       "      <th></th>\n",
       "      <th>Year</th>\n",
       "      <th>Team Name</th>\n",
       "      <th>Wiki</th>\n",
       "      <th>Region</th>\n",
       "      <th>Location</th>\n",
       "      <th>Institution</th>\n",
       "      <th>Section</th>\n",
       "      <th>Application</th>\n",
       "      <th>Project Title</th>\n",
       "      <th>Track</th>\n",
       "      <th>Abstract</th>\n",
       "      <th>Parts</th>\n",
       "      <th>Medal</th>\n",
       "      <th>Nominations</th>\n",
       "      <th>Awards</th>\n",
       "      <th>Supertrack</th>\n",
       "    </tr>\n",
       "  </thead>\n",
       "  <tbody>\n",
       "    <tr>\n",
       "      <th>0</th>\n",
       "      <td>2012</td>\n",
       "      <td>Buenos Aires</td>\n",
       "      <td>http://2012.igem.org/Team:Buenos_Aires</td>\n",
       "      <td>latin-america</td>\n",
       "      <td>Argentina</td>\n",
       "      <td>Universidad de Buenos Aires</td>\n",
       "      <td>Undergrad</td>\n",
       "      <td>NaN</td>\n",
       "      <td>Synthetic ecology</td>\n",
       "      <td>Foundational Advance</td>\n",
       "      <td>We aimed to create a stable community of micro...</td>\n",
       "      <td>http://parts.igem.org/cgi/partsdb/pgroup.cgi?p...</td>\n",
       "      <td>Bronze</td>\n",
       "      <td>-</td>\n",
       "      <td>Advance to Championship</td>\n",
       "      <td>Basic Research</td>\n",
       "    </tr>\n",
       "    <tr>\n",
       "      <th>1</th>\n",
       "      <td>2013</td>\n",
       "      <td>Buenos Aires</td>\n",
       "      <td>http://2013.igem.org/Team:Buenos_Aires</td>\n",
       "      <td>latin-america</td>\n",
       "      <td>Argentina</td>\n",
       "      <td>Universidad de Buenos Aires</td>\n",
       "      <td>Overgrad</td>\n",
       "      <td>NaN</td>\n",
       "      <td>To drink or not to drink</td>\n",
       "      <td>Environment</td>\n",
       "      <td>Our project is focused on developing a biosens...</td>\n",
       "      <td>http://parts.igem.org/cgi/partsdb/pgroup.cgi?p...</td>\n",
       "      <td>Gold</td>\n",
       "      <td>-</td>\n",
       "      <td>Advance to Championship, Regional Finalist (La...</td>\n",
       "      <td>Environment</td>\n",
       "    </tr>\n",
       "    <tr>\n",
       "      <th>2</th>\n",
       "      <td>2007</td>\n",
       "      <td>Melbourne</td>\n",
       "      <td>http://2007.igem.org/Melbourne</td>\n",
       "      <td>asia</td>\n",
       "      <td>Australia</td>\n",
       "      <td>University of Melbourne</td>\n",
       "      <td>Undergrad</td>\n",
       "      <td>NaN</td>\n",
       "      <td>COLIFORMING</td>\n",
       "      <td>The formation of complex scaffolds of extracel...</td>\n",
       "      <td>-</td>\n",
       "      <td>-</td>\n",
       "      <td>Gold</td>\n",
       "      <td>-</td>\n",
       "      <td>Best BioBrick Part</td>\n",
       "      <td>Other</td>\n",
       "    </tr>\n",
       "    <tr>\n",
       "      <th>3</th>\n",
       "      <td>2008</td>\n",
       "      <td>Melbourne</td>\n",
       "      <td>http://2008.igem.org/Team:Melbourne</td>\n",
       "      <td>asia</td>\n",
       "      <td>Australia</td>\n",
       "      <td>University of Melbourne</td>\n",
       "      <td>Undergrad</td>\n",
       "      <td>NaN</td>\n",
       "      <td>NaN</td>\n",
       "      <td>-</td>\n",
       "      <td>We want to build a biological clock that can c...</td>\n",
       "      <td>http://parts.igem.org/cgi/partsdb/pgroup.cgi?p...</td>\n",
       "      <td>Bronze</td>\n",
       "      <td>-</td>\n",
       "      <td>-</td>\n",
       "      <td>Other</td>\n",
       "    </tr>\n",
       "    <tr>\n",
       "      <th>4</th>\n",
       "      <td>2009</td>\n",
       "      <td>UQ-Australia</td>\n",
       "      <td>http://2009.igem.org/Team:UQ-Australia</td>\n",
       "      <td>asia</td>\n",
       "      <td>Australia</td>\n",
       "      <td>University of Queensland</td>\n",
       "      <td>Undergrad</td>\n",
       "      <td>NaN</td>\n",
       "      <td>Mercury sequestration using a multicomponent o...</td>\n",
       "      <td>Environment</td>\n",
       "      <td>Microbes such as Escherichia coli and Cuprivad...</td>\n",
       "      <td>http://parts.igem.org/cgi/partsdb/pgroup.cgi?p...</td>\n",
       "      <td>Bronze</td>\n",
       "      <td>-</td>\n",
       "      <td>-</td>\n",
       "      <td>Environment</td>\n",
       "    </tr>\n",
       "    <tr>\n",
       "      <th>...</th>\n",
       "      <td>...</td>\n",
       "      <td>...</td>\n",
       "      <td>...</td>\n",
       "      <td>...</td>\n",
       "      <td>...</td>\n",
       "      <td>...</td>\n",
       "      <td>...</td>\n",
       "      <td>...</td>\n",
       "      <td>...</td>\n",
       "      <td>...</td>\n",
       "      <td>...</td>\n",
       "      <td>...</td>\n",
       "      <td>...</td>\n",
       "      <td>...</td>\n",
       "      <td>...</td>\n",
       "      <td>...</td>\n",
       "    </tr>\n",
       "    <tr>\n",
       "      <th>4732</th>\n",
       "      <td>2024</td>\n",
       "      <td>YiYe-China</td>\n",
       "      <td>https://2024.igem.wiki/yiye-china</td>\n",
       "      <td>asia</td>\n",
       "      <td>China</td>\n",
       "      <td>-</td>\n",
       "      <td>High School</td>\n",
       "      <td>pending</td>\n",
       "      <td>-</td>\n",
       "      <td>NaN</td>\n",
       "      <td>NaN</td>\n",
       "      <td>-</td>\n",
       "      <td>-</td>\n",
       "      <td>NaN</td>\n",
       "      <td>NaN</td>\n",
       "      <td>Other</td>\n",
       "    </tr>\n",
       "    <tr>\n",
       "      <th>4733</th>\n",
       "      <td>2024</td>\n",
       "      <td>Zhejiang-United</td>\n",
       "      <td>https://2024.igem.wiki/zhejiang-united</td>\n",
       "      <td>asia</td>\n",
       "      <td>China</td>\n",
       "      <td>-</td>\n",
       "      <td>High School</td>\n",
       "      <td>pending</td>\n",
       "      <td>-</td>\n",
       "      <td>NaN</td>\n",
       "      <td>NaN</td>\n",
       "      <td>-</td>\n",
       "      <td>-</td>\n",
       "      <td>NaN</td>\n",
       "      <td>NaN</td>\n",
       "      <td>Other</td>\n",
       "    </tr>\n",
       "    <tr>\n",
       "      <th>4734</th>\n",
       "      <td>2024</td>\n",
       "      <td>ZJU-China</td>\n",
       "      <td>https://2024.igem.wiki/zju-china</td>\n",
       "      <td>asia</td>\n",
       "      <td>China</td>\n",
       "      <td>-</td>\n",
       "      <td>Collegiate</td>\n",
       "      <td>accepted</td>\n",
       "      <td>-</td>\n",
       "      <td>NaN</td>\n",
       "      <td>NaN</td>\n",
       "      <td>-</td>\n",
       "      <td>-</td>\n",
       "      <td>NaN</td>\n",
       "      <td>NaN</td>\n",
       "      <td>Other</td>\n",
       "    </tr>\n",
       "    <tr>\n",
       "      <th>4735</th>\n",
       "      <td>2024</td>\n",
       "      <td>ZJUT-China</td>\n",
       "      <td>https://2024.igem.wiki/zjut-china</td>\n",
       "      <td>asia</td>\n",
       "      <td>China</td>\n",
       "      <td>-</td>\n",
       "      <td>Collegiate</td>\n",
       "      <td>pending</td>\n",
       "      <td>-</td>\n",
       "      <td>NaN</td>\n",
       "      <td>NaN</td>\n",
       "      <td>-</td>\n",
       "      <td>-</td>\n",
       "      <td>NaN</td>\n",
       "      <td>NaN</td>\n",
       "      <td>Other</td>\n",
       "    </tr>\n",
       "    <tr>\n",
       "      <th>4736</th>\n",
       "      <td>2024</td>\n",
       "      <td>ZQT-Nanjing</td>\n",
       "      <td>https://2024.igem.wiki/zqt-nanjing</td>\n",
       "      <td>asia</td>\n",
       "      <td>China</td>\n",
       "      <td>-</td>\n",
       "      <td>High School</td>\n",
       "      <td>pending</td>\n",
       "      <td>-</td>\n",
       "      <td>NaN</td>\n",
       "      <td>NaN</td>\n",
       "      <td>-</td>\n",
       "      <td>-</td>\n",
       "      <td>NaN</td>\n",
       "      <td>NaN</td>\n",
       "      <td>Other</td>\n",
       "    </tr>\n",
       "  </tbody>\n",
       "</table>\n",
       "<p>4737 rows × 16 columns</p>\n",
       "</div>"
      ],
      "text/plain": [
       "      Year        Team Name                                    Wiki  \\\n",
       "0     2012     Buenos Aires  http://2012.igem.org/Team:Buenos_Aires   \n",
       "1     2013     Buenos Aires  http://2013.igem.org/Team:Buenos_Aires   \n",
       "2     2007        Melbourne          http://2007.igem.org/Melbourne   \n",
       "3     2008        Melbourne     http://2008.igem.org/Team:Melbourne   \n",
       "4     2009     UQ-Australia  http://2009.igem.org/Team:UQ-Australia   \n",
       "...    ...              ...                                     ...   \n",
       "4732  2024       YiYe-China       https://2024.igem.wiki/yiye-china   \n",
       "4733  2024  Zhejiang-United  https://2024.igem.wiki/zhejiang-united   \n",
       "4734  2024        ZJU-China        https://2024.igem.wiki/zju-china   \n",
       "4735  2024       ZJUT-China       https://2024.igem.wiki/zjut-china   \n",
       "4736  2024      ZQT-Nanjing      https://2024.igem.wiki/zqt-nanjing   \n",
       "\n",
       "             Region   Location                  Institution      Section  \\\n",
       "0     latin-america  Argentina  Universidad de Buenos Aires    Undergrad   \n",
       "1     latin-america  Argentina  Universidad de Buenos Aires     Overgrad   \n",
       "2              asia  Australia      University of Melbourne    Undergrad   \n",
       "3              asia  Australia      University of Melbourne    Undergrad   \n",
       "4              asia  Australia     University of Queensland    Undergrad   \n",
       "...             ...        ...                          ...          ...   \n",
       "4732           asia      China                            -  High School   \n",
       "4733           asia      China                            -  High School   \n",
       "4734           asia      China                            -   Collegiate   \n",
       "4735           asia      China                            -   Collegiate   \n",
       "4736           asia      China                            -  High School   \n",
       "\n",
       "     Application                                      Project Title  \\\n",
       "0            NaN                                  Synthetic ecology   \n",
       "1            NaN                           To drink or not to drink   \n",
       "2            NaN                                        COLIFORMING   \n",
       "3            NaN                                                NaN   \n",
       "4            NaN  Mercury sequestration using a multicomponent o...   \n",
       "...          ...                                                ...   \n",
       "4732     pending                                                  -   \n",
       "4733     pending                                                  -   \n",
       "4734    accepted                                                  -   \n",
       "4735     pending                                                  -   \n",
       "4736     pending                                                  -   \n",
       "\n",
       "                                                  Track  \\\n",
       "0                                  Foundational Advance   \n",
       "1                                           Environment   \n",
       "2     The formation of complex scaffolds of extracel...   \n",
       "3                                                     -   \n",
       "4                                           Environment   \n",
       "...                                                 ...   \n",
       "4732                                                NaN   \n",
       "4733                                                NaN   \n",
       "4734                                                NaN   \n",
       "4735                                                NaN   \n",
       "4736                                                NaN   \n",
       "\n",
       "                                               Abstract  \\\n",
       "0     We aimed to create a stable community of micro...   \n",
       "1     Our project is focused on developing a biosens...   \n",
       "2                                                     -   \n",
       "3     We want to build a biological clock that can c...   \n",
       "4     Microbes such as Escherichia coli and Cuprivad...   \n",
       "...                                                 ...   \n",
       "4732                                                NaN   \n",
       "4733                                                NaN   \n",
       "4734                                                NaN   \n",
       "4735                                                NaN   \n",
       "4736                                                NaN   \n",
       "\n",
       "                                                  Parts   Medal Nominations  \\\n",
       "0     http://parts.igem.org/cgi/partsdb/pgroup.cgi?p...  Bronze           -   \n",
       "1     http://parts.igem.org/cgi/partsdb/pgroup.cgi?p...    Gold           -   \n",
       "2                                                     -    Gold           -   \n",
       "3     http://parts.igem.org/cgi/partsdb/pgroup.cgi?p...  Bronze           -   \n",
       "4     http://parts.igem.org/cgi/partsdb/pgroup.cgi?p...  Bronze           -   \n",
       "...                                                 ...     ...         ...   \n",
       "4732                                                  -       -         NaN   \n",
       "4733                                                  -       -         NaN   \n",
       "4734                                                  -       -         NaN   \n",
       "4735                                                  -       -         NaN   \n",
       "4736                                                  -       -         NaN   \n",
       "\n",
       "                                                 Awards      Supertrack  \n",
       "0                               Advance to Championship  Basic Research  \n",
       "1     Advance to Championship, Regional Finalist (La...     Environment  \n",
       "2                                    Best BioBrick Part           Other  \n",
       "3                                                     -           Other  \n",
       "4                                                     -     Environment  \n",
       "...                                                 ...             ...  \n",
       "4732                                                NaN           Other  \n",
       "4733                                                NaN           Other  \n",
       "4734                                                NaN           Other  \n",
       "4735                                                NaN           Other  \n",
       "4736                                                NaN           Other  \n",
       "\n",
       "[4737 rows x 16 columns]"
      ]
     },
     "execution_count": 304,
     "metadata": {},
     "output_type": "execute_result"
    }
   ],
   "source": [
    "def assign_supertrack(track):\n",
    "    supertrack = None\n",
    "    try: supertrack = tracks[str(track)]\n",
    "    except:\n",
    "        supertrack = 'Other'\n",
    "    return supertrack\n",
    "\n",
    "data['Supertrack'] = [assign_supertrack(track) for track in data['Track']]\n",
    "data"
   ]
  },
  {
   "cell_type": "code",
   "execution_count": 305,
   "metadata": {},
   "outputs": [
    {
     "data": {
      "text/plain": [
       "Supertrack\n",
       "Medicine                             801\n",
       "Other                                753\n",
       "High School                          740\n",
       "Environment                          719\n",
       "Basic Research                       439\n",
       "Food, Agriculture & Energy           339\n",
       "Applications Research                336\n",
       "Manufacturing                        303\n",
       "Software, Measurement, & Modeling    235\n",
       "Open/Community Research               30\n",
       "Entrepreneurship                      17\n",
       "Hardware                              17\n",
       "Art, Design & Cosmetics                8\n",
       "Name: count, dtype: int64"
      ]
     },
     "execution_count": 305,
     "metadata": {},
     "output_type": "execute_result"
    }
   ],
   "source": [
    "data['Supertrack'].value_counts()"
   ]
  },
  {
   "cell_type": "code",
   "execution_count": 309,
   "metadata": {},
   "outputs": [],
   "source": [
    "years = data['Year'].sort_values().unique()\n",
    "supertracks = ['Basic Research', 'Environment', 'Manufacturing',\n",
    "       'Applications Research', 'Medicine', 'Food, Agriculture & Energy',\n",
    "       'Software, Measurement, & Modeling', 'High School',\n",
    "       'Entrepreneurship', 'Hardware', 'Art, Design & Cosmetics',\n",
    "       'Open/Community Research', 'Other']\n",
    "supertrack_data= pd.DataFrame({supertrack:[data[data['Supertrack'] == supertrack].loc[data['Year'] == year]['Team Name'].count() for year in years] for supertrack in supertracks}, index=years)"
   ]
  },
  {
   "cell_type": "code",
   "execution_count": 310,
   "metadata": {},
   "outputs": [],
   "source": [
    "FIG_SIZE = {'width': 1200, 'height': 600}\n",
    "COLOR_SETTINGS = {'plot_bgcolor':'white',\n",
    "                  'paper_bgcolor':'white'}\n",
    "TRACK_COLORS = {'Basic Research' : '#cda58d',\n",
    "            'Environment' : '#0DB26B',\n",
    "            'Other' : '#50C6DF',\n",
    "            'Manufacturing' : '#5f7687',\n",
    "            'Applications Research' : '#d1a5e0',\n",
    "            'Medicine' : '#F391BC',\n",
    "            'Food, Agriculture & Energy' : '#C8D850',\n",
    "            'Software, Measurement, & Modeling' : '#9D9FA2',\n",
    "            'High School' : '#F58345',\n",
    "            'Entrepreneurship' : '#FFCB05',\n",
    "            'Hardware' : '#8A6CB0',\n",
    "            'Open/Community Research' : '#0C8AC8',\n",
    "            'Policy' : 'Black',\n",
    "            'Art, Design & Cosmetics': 'Red'}"
   ]
  },
  {
   "cell_type": "code",
   "execution_count": 314,
   "metadata": {},
   "outputs": [
    {
     "data": {
      "application/vnd.plotly.v1+json": {
       "config": {
        "plotlyServerURL": "https://plot.ly"
       },
       "data": [
        {
         "alignmentgroup": "True",
         "hovertemplate": "variable=Basic Research<br>index=%{x}<br>value=%{y}<extra></extra>",
         "legendgroup": "Basic Research",
         "marker": {
          "color": "#cda58d",
          "pattern": {
           "shape": ""
          }
         },
         "name": "Basic Research",
         "offsetgroup": "Basic Research",
         "orientation": "v",
         "showlegend": true,
         "textposition": "auto",
         "type": "bar",
         "x": [
          2004,
          2005,
          2006,
          2007,
          2008,
          2009,
          2010,
          2011,
          2012,
          2013,
          2014,
          2015,
          2016,
          2017,
          2018,
          2019,
          2020,
          2021,
          2022,
          2023
         ],
         "xaxis": "x",
         "y": [
          0,
          0,
          0,
          0,
          0,
          21,
          20,
          26,
          33,
          31,
          30,
          21,
          31,
          37,
          48,
          46,
          15,
          25,
          32,
          23
         ],
         "yaxis": "y"
        },
        {
         "alignmentgroup": "True",
         "hovertemplate": "variable=Environment<br>index=%{x}<br>value=%{y}<extra></extra>",
         "legendgroup": "Environment",
         "marker": {
          "color": "#0DB26B",
          "pattern": {
           "shape": ""
          }
         },
         "name": "Environment",
         "offsetgroup": "Environment",
         "orientation": "v",
         "showlegend": true,
         "textposition": "auto",
         "type": "bar",
         "x": [
          2004,
          2005,
          2006,
          2007,
          2008,
          2009,
          2010,
          2011,
          2012,
          2013,
          2014,
          2015,
          2016,
          2017,
          2018,
          2019,
          2020,
          2021,
          2022,
          2023
         ],
         "xaxis": "x",
         "y": [
          0,
          0,
          0,
          0,
          0,
          16,
          16,
          25,
          30,
          44,
          61,
          33,
          45,
          59,
          57,
          58,
          57,
          63,
          72,
          83
         ],
         "yaxis": "y"
        },
        {
         "alignmentgroup": "True",
         "hovertemplate": "variable=Manufacturing<br>index=%{x}<br>value=%{y}<extra></extra>",
         "legendgroup": "Manufacturing",
         "marker": {
          "color": "#5f7687",
          "pattern": {
           "shape": ""
          }
         },
         "name": "Manufacturing",
         "offsetgroup": "Manufacturing",
         "orientation": "v",
         "showlegend": true,
         "textposition": "auto",
         "type": "bar",
         "x": [
          2004,
          2005,
          2006,
          2007,
          2008,
          2009,
          2010,
          2011,
          2012,
          2013,
          2014,
          2015,
          2016,
          2017,
          2018,
          2019,
          2020,
          2021,
          2022,
          2023
         ],
         "xaxis": "x",
         "y": [
          0,
          0,
          0,
          0,
          0,
          14,
          17,
          15,
          11,
          13,
          16,
          18,
          24,
          21,
          27,
          23,
          10,
          22,
          38,
          34
         ],
         "yaxis": "y"
        },
        {
         "alignmentgroup": "True",
         "hovertemplate": "variable=Applications Research<br>index=%{x}<br>value=%{y}<extra></extra>",
         "legendgroup": "Applications Research",
         "marker": {
          "color": "#d1a5e0",
          "pattern": {
           "shape": ""
          }
         },
         "name": "Applications Research",
         "offsetgroup": "Applications Research",
         "orientation": "v",
         "showlegend": true,
         "textposition": "auto",
         "type": "bar",
         "x": [
          2004,
          2005,
          2006,
          2007,
          2008,
          2009,
          2010,
          2011,
          2012,
          2013,
          2014,
          2015,
          2016,
          2017,
          2018,
          2019,
          2020,
          2021,
          2022,
          2023
         ],
         "xaxis": "x",
         "y": [
          0,
          0,
          0,
          0,
          0,
          13,
          20,
          31,
          28,
          27,
          27,
          31,
          28,
          24,
          32,
          30,
          16,
          29,
          0,
          0
         ],
         "yaxis": "y"
        },
        {
         "alignmentgroup": "True",
         "hovertemplate": "variable=Medicine<br>index=%{x}<br>value=%{y}<extra></extra>",
         "legendgroup": "Medicine",
         "marker": {
          "color": "#F391BC",
          "pattern": {
           "shape": ""
          }
         },
         "name": "Medicine",
         "offsetgroup": "Medicine",
         "orientation": "v",
         "showlegend": true,
         "textposition": "auto",
         "type": "bar",
         "x": [
          2004,
          2005,
          2006,
          2007,
          2008,
          2009,
          2010,
          2011,
          2012,
          2013,
          2014,
          2015,
          2016,
          2017,
          2018,
          2019,
          2020,
          2021,
          2022,
          2023
         ],
         "xaxis": "x",
         "y": [
          0,
          0,
          0,
          0,
          0,
          15,
          20,
          13,
          26,
          45,
          50,
          55,
          59,
          56,
          59,
          75,
          54,
          85,
          91,
          98
         ],
         "yaxis": "y"
        },
        {
         "alignmentgroup": "True",
         "hovertemplate": "variable=Food, Agriculture & Energy<br>index=%{x}<br>value=%{y}<extra></extra>",
         "legendgroup": "Food, Agriculture & Energy",
         "marker": {
          "color": "#C8D850",
          "pattern": {
           "shape": ""
          }
         },
         "name": "Food, Agriculture & Energy",
         "offsetgroup": "Food, Agriculture & Energy",
         "orientation": "v",
         "showlegend": true,
         "textposition": "auto",
         "type": "bar",
         "x": [
          2004,
          2005,
          2006,
          2007,
          2008,
          2009,
          2010,
          2011,
          2012,
          2013,
          2014,
          2015,
          2016,
          2017,
          2018,
          2019,
          2020,
          2021,
          2022,
          2023
         ],
         "xaxis": "x",
         "y": [
          0,
          0,
          0,
          0,
          0,
          8,
          12,
          15,
          22,
          27,
          26,
          26,
          25,
          33,
          21,
          27,
          13,
          25,
          28,
          31
         ],
         "yaxis": "y"
        },
        {
         "alignmentgroup": "True",
         "hovertemplate": "variable=Software, Measurement, & Modeling<br>index=%{x}<br>value=%{y}<extra></extra>",
         "legendgroup": "Software, Measurement, & Modeling",
         "marker": {
          "color": "#9D9FA2",
          "pattern": {
           "shape": ""
          }
         },
         "name": "Software, Measurement, & Modeling",
         "offsetgroup": "Software, Measurement, & Modeling",
         "orientation": "v",
         "showlegend": true,
         "textposition": "auto",
         "type": "bar",
         "x": [
          2004,
          2005,
          2006,
          2007,
          2008,
          2009,
          2010,
          2011,
          2012,
          2013,
          2014,
          2015,
          2016,
          2017,
          2018,
          2019,
          2020,
          2021,
          2022,
          2023
         ],
         "xaxis": "x",
         "y": [
          0,
          0,
          0,
          0,
          0,
          15,
          11,
          17,
          23,
          21,
          35,
          26,
          20,
          16,
          11,
          5,
          15,
          7,
          6,
          7
         ],
         "yaxis": "y"
        },
        {
         "alignmentgroup": "True",
         "hovertemplate": "variable=High School<br>index=%{x}<br>value=%{y}<extra></extra>",
         "legendgroup": "High School",
         "marker": {
          "color": "#F58345",
          "pattern": {
           "shape": ""
          }
         },
         "name": "High School",
         "offsetgroup": "High School",
         "orientation": "v",
         "showlegend": true,
         "textposition": "auto",
         "type": "bar",
         "x": [
          2004,
          2005,
          2006,
          2007,
          2008,
          2009,
          2010,
          2011,
          2012,
          2013,
          2014,
          2015,
          2016,
          2017,
          2018,
          2019,
          2020,
          2021,
          2022,
          2023
         ],
         "xaxis": "x",
         "y": [
          0,
          0,
          0,
          0,
          0,
          0,
          0,
          5,
          24,
          0,
          0,
          35,
          36,
          42,
          59,
          74,
          108,
          109,
          111,
          137
         ],
         "yaxis": "y"
        },
        {
         "alignmentgroup": "True",
         "hovertemplate": "variable=Entrepreneurship<br>index=%{x}<br>value=%{y}<extra></extra>",
         "legendgroup": "Entrepreneurship",
         "marker": {
          "color": "#FFCB05",
          "pattern": {
           "shape": ""
          }
         },
         "name": "Entrepreneurship",
         "offsetgroup": "Entrepreneurship",
         "orientation": "v",
         "showlegend": true,
         "textposition": "auto",
         "type": "bar",
         "x": [
          2004,
          2005,
          2006,
          2007,
          2008,
          2009,
          2010,
          2011,
          2012,
          2013,
          2014,
          2015,
          2016,
          2017,
          2018,
          2019,
          2020,
          2021,
          2022,
          2023
         ],
         "xaxis": "x",
         "y": [
          0,
          0,
          0,
          0,
          0,
          0,
          0,
          0,
          10,
          4,
          3,
          0,
          0,
          0,
          0,
          0,
          0,
          0,
          0,
          0
         ],
         "yaxis": "y"
        },
        {
         "alignmentgroup": "True",
         "hovertemplate": "variable=Hardware<br>index=%{x}<br>value=%{y}<extra></extra>",
         "legendgroup": "Hardware",
         "marker": {
          "color": "#8A6CB0",
          "pattern": {
           "shape": ""
          }
         },
         "name": "Hardware",
         "offsetgroup": "Hardware",
         "orientation": "v",
         "showlegend": true,
         "textposition": "auto",
         "type": "bar",
         "x": [
          2004,
          2005,
          2006,
          2007,
          2008,
          2009,
          2010,
          2011,
          2012,
          2013,
          2014,
          2015,
          2016,
          2017,
          2018,
          2019,
          2020,
          2021,
          2022,
          2023
         ],
         "xaxis": "x",
         "y": [
          0,
          0,
          0,
          0,
          0,
          0,
          0,
          0,
          0,
          0,
          2,
          7,
          4,
          4,
          0,
          0,
          0,
          0,
          0,
          0
         ],
         "yaxis": "y"
        },
        {
         "alignmentgroup": "True",
         "hovertemplate": "variable=Art, Design & Cosmetics<br>index=%{x}<br>value=%{y}<extra></extra>",
         "legendgroup": "Art, Design & Cosmetics",
         "marker": {
          "color": "Red",
          "pattern": {
           "shape": ""
          }
         },
         "name": "Art, Design & Cosmetics",
         "offsetgroup": "Art, Design & Cosmetics",
         "orientation": "v",
         "showlegend": true,
         "textposition": "auto",
         "type": "bar",
         "x": [
          2004,
          2005,
          2006,
          2007,
          2008,
          2009,
          2010,
          2011,
          2012,
          2013,
          2014,
          2015,
          2016,
          2017,
          2018,
          2019,
          2020,
          2021,
          2022,
          2023
         ],
         "xaxis": "x",
         "y": [
          0,
          0,
          0,
          0,
          0,
          0,
          0,
          0,
          0,
          0,
          5,
          3,
          0,
          0,
          0,
          0,
          0,
          0,
          0,
          0
         ],
         "yaxis": "y"
        },
        {
         "alignmentgroup": "True",
         "hovertemplate": "variable=Open/Community Research<br>index=%{x}<br>value=%{y}<extra></extra>",
         "legendgroup": "Open/Community Research",
         "marker": {
          "color": "#0C8AC8",
          "pattern": {
           "shape": ""
          }
         },
         "name": "Open/Community Research",
         "offsetgroup": "Open/Community Research",
         "orientation": "v",
         "showlegend": true,
         "textposition": "auto",
         "type": "bar",
         "x": [
          2004,
          2005,
          2006,
          2007,
          2008,
          2009,
          2010,
          2011,
          2012,
          2013,
          2014,
          2015,
          2016,
          2017,
          2018,
          2019,
          2020,
          2021,
          2022,
          2023
         ],
         "xaxis": "x",
         "y": [
          0,
          0,
          0,
          0,
          0,
          0,
          0,
          0,
          0,
          0,
          6,
          4,
          0,
          3,
          6,
          7,
          4,
          0,
          0,
          0
         ],
         "yaxis": "y"
        },
        {
         "alignmentgroup": "True",
         "hovertemplate": "variable=Other<br>index=%{x}<br>value=%{y}<extra></extra>",
         "legendgroup": "Other",
         "marker": {
          "color": "#50C6DF",
          "pattern": {
           "shape": ""
          }
         },
         "name": "Other",
         "offsetgroup": "Other",
         "orientation": "v",
         "showlegend": true,
         "textposition": "auto",
         "type": "bar",
         "x": [
          2004,
          2005,
          2006,
          2007,
          2008,
          2009,
          2010,
          2011,
          2012,
          2013,
          2014,
          2015,
          2016,
          2017,
          2018,
          2019,
          2020,
          2021,
          2022,
          2023
         ],
         "xaxis": "x",
         "y": [
          5,
          13,
          37,
          54,
          76,
          0,
          0,
          0,
          0,
          6,
          2,
          0,
          0,
          0,
          0,
          0,
          86,
          37,
          36,
          47
         ],
         "yaxis": "y"
        }
       ],
       "layout": {
        "annotations": [
         {
          "arrowhead": 1,
          "showarrow": true,
          "text": "Prior to 2009 teams did not<br>declare specific tracks.",
          "x": 2008,
          "y": 100
         },
         {
          "showarrow": false,
          "text": "*The other category includes<br>non-specified projects as well<br>as projects in the policy<br>track, of which there have<br>only ever been two projects",
          "x": 1.25,
          "xref": "paper",
          "y": 0.2,
          "yref": "paper"
         }
        ],
        "barmode": "relative",
        "height": 600,
        "legend": {
         "title": {
          "text": "Track Type"
         },
         "tracegroupgap": 0
        },
        "margin": {
         "t": 60
        },
        "template": {
         "data": {
          "bar": [
           {
            "error_x": {
             "color": "#2a3f5f"
            },
            "error_y": {
             "color": "#2a3f5f"
            },
            "marker": {
             "line": {
              "color": "#E5ECF6",
              "width": 0.5
             },
             "pattern": {
              "fillmode": "overlay",
              "size": 10,
              "solidity": 0.2
             }
            },
            "type": "bar"
           }
          ],
          "barpolar": [
           {
            "marker": {
             "line": {
              "color": "#E5ECF6",
              "width": 0.5
             },
             "pattern": {
              "fillmode": "overlay",
              "size": 10,
              "solidity": 0.2
             }
            },
            "type": "barpolar"
           }
          ],
          "carpet": [
           {
            "aaxis": {
             "endlinecolor": "#2a3f5f",
             "gridcolor": "white",
             "linecolor": "white",
             "minorgridcolor": "white",
             "startlinecolor": "#2a3f5f"
            },
            "baxis": {
             "endlinecolor": "#2a3f5f",
             "gridcolor": "white",
             "linecolor": "white",
             "minorgridcolor": "white",
             "startlinecolor": "#2a3f5f"
            },
            "type": "carpet"
           }
          ],
          "choropleth": [
           {
            "colorbar": {
             "outlinewidth": 0,
             "ticks": ""
            },
            "type": "choropleth"
           }
          ],
          "contour": [
           {
            "colorbar": {
             "outlinewidth": 0,
             "ticks": ""
            },
            "colorscale": [
             [
              0,
              "#0d0887"
             ],
             [
              0.1111111111111111,
              "#46039f"
             ],
             [
              0.2222222222222222,
              "#7201a8"
             ],
             [
              0.3333333333333333,
              "#9c179e"
             ],
             [
              0.4444444444444444,
              "#bd3786"
             ],
             [
              0.5555555555555556,
              "#d8576b"
             ],
             [
              0.6666666666666666,
              "#ed7953"
             ],
             [
              0.7777777777777778,
              "#fb9f3a"
             ],
             [
              0.8888888888888888,
              "#fdca26"
             ],
             [
              1,
              "#f0f921"
             ]
            ],
            "type": "contour"
           }
          ],
          "contourcarpet": [
           {
            "colorbar": {
             "outlinewidth": 0,
             "ticks": ""
            },
            "type": "contourcarpet"
           }
          ],
          "heatmap": [
           {
            "colorbar": {
             "outlinewidth": 0,
             "ticks": ""
            },
            "colorscale": [
             [
              0,
              "#0d0887"
             ],
             [
              0.1111111111111111,
              "#46039f"
             ],
             [
              0.2222222222222222,
              "#7201a8"
             ],
             [
              0.3333333333333333,
              "#9c179e"
             ],
             [
              0.4444444444444444,
              "#bd3786"
             ],
             [
              0.5555555555555556,
              "#d8576b"
             ],
             [
              0.6666666666666666,
              "#ed7953"
             ],
             [
              0.7777777777777778,
              "#fb9f3a"
             ],
             [
              0.8888888888888888,
              "#fdca26"
             ],
             [
              1,
              "#f0f921"
             ]
            ],
            "type": "heatmap"
           }
          ],
          "heatmapgl": [
           {
            "colorbar": {
             "outlinewidth": 0,
             "ticks": ""
            },
            "colorscale": [
             [
              0,
              "#0d0887"
             ],
             [
              0.1111111111111111,
              "#46039f"
             ],
             [
              0.2222222222222222,
              "#7201a8"
             ],
             [
              0.3333333333333333,
              "#9c179e"
             ],
             [
              0.4444444444444444,
              "#bd3786"
             ],
             [
              0.5555555555555556,
              "#d8576b"
             ],
             [
              0.6666666666666666,
              "#ed7953"
             ],
             [
              0.7777777777777778,
              "#fb9f3a"
             ],
             [
              0.8888888888888888,
              "#fdca26"
             ],
             [
              1,
              "#f0f921"
             ]
            ],
            "type": "heatmapgl"
           }
          ],
          "histogram": [
           {
            "marker": {
             "pattern": {
              "fillmode": "overlay",
              "size": 10,
              "solidity": 0.2
             }
            },
            "type": "histogram"
           }
          ],
          "histogram2d": [
           {
            "colorbar": {
             "outlinewidth": 0,
             "ticks": ""
            },
            "colorscale": [
             [
              0,
              "#0d0887"
             ],
             [
              0.1111111111111111,
              "#46039f"
             ],
             [
              0.2222222222222222,
              "#7201a8"
             ],
             [
              0.3333333333333333,
              "#9c179e"
             ],
             [
              0.4444444444444444,
              "#bd3786"
             ],
             [
              0.5555555555555556,
              "#d8576b"
             ],
             [
              0.6666666666666666,
              "#ed7953"
             ],
             [
              0.7777777777777778,
              "#fb9f3a"
             ],
             [
              0.8888888888888888,
              "#fdca26"
             ],
             [
              1,
              "#f0f921"
             ]
            ],
            "type": "histogram2d"
           }
          ],
          "histogram2dcontour": [
           {
            "colorbar": {
             "outlinewidth": 0,
             "ticks": ""
            },
            "colorscale": [
             [
              0,
              "#0d0887"
             ],
             [
              0.1111111111111111,
              "#46039f"
             ],
             [
              0.2222222222222222,
              "#7201a8"
             ],
             [
              0.3333333333333333,
              "#9c179e"
             ],
             [
              0.4444444444444444,
              "#bd3786"
             ],
             [
              0.5555555555555556,
              "#d8576b"
             ],
             [
              0.6666666666666666,
              "#ed7953"
             ],
             [
              0.7777777777777778,
              "#fb9f3a"
             ],
             [
              0.8888888888888888,
              "#fdca26"
             ],
             [
              1,
              "#f0f921"
             ]
            ],
            "type": "histogram2dcontour"
           }
          ],
          "mesh3d": [
           {
            "colorbar": {
             "outlinewidth": 0,
             "ticks": ""
            },
            "type": "mesh3d"
           }
          ],
          "parcoords": [
           {
            "line": {
             "colorbar": {
              "outlinewidth": 0,
              "ticks": ""
             }
            },
            "type": "parcoords"
           }
          ],
          "pie": [
           {
            "automargin": true,
            "type": "pie"
           }
          ],
          "scatter": [
           {
            "fillpattern": {
             "fillmode": "overlay",
             "size": 10,
             "solidity": 0.2
            },
            "type": "scatter"
           }
          ],
          "scatter3d": [
           {
            "line": {
             "colorbar": {
              "outlinewidth": 0,
              "ticks": ""
             }
            },
            "marker": {
             "colorbar": {
              "outlinewidth": 0,
              "ticks": ""
             }
            },
            "type": "scatter3d"
           }
          ],
          "scattercarpet": [
           {
            "marker": {
             "colorbar": {
              "outlinewidth": 0,
              "ticks": ""
             }
            },
            "type": "scattercarpet"
           }
          ],
          "scattergeo": [
           {
            "marker": {
             "colorbar": {
              "outlinewidth": 0,
              "ticks": ""
             }
            },
            "type": "scattergeo"
           }
          ],
          "scattergl": [
           {
            "marker": {
             "colorbar": {
              "outlinewidth": 0,
              "ticks": ""
             }
            },
            "type": "scattergl"
           }
          ],
          "scattermapbox": [
           {
            "marker": {
             "colorbar": {
              "outlinewidth": 0,
              "ticks": ""
             }
            },
            "type": "scattermapbox"
           }
          ],
          "scatterpolar": [
           {
            "marker": {
             "colorbar": {
              "outlinewidth": 0,
              "ticks": ""
             }
            },
            "type": "scatterpolar"
           }
          ],
          "scatterpolargl": [
           {
            "marker": {
             "colorbar": {
              "outlinewidth": 0,
              "ticks": ""
             }
            },
            "type": "scatterpolargl"
           }
          ],
          "scatterternary": [
           {
            "marker": {
             "colorbar": {
              "outlinewidth": 0,
              "ticks": ""
             }
            },
            "type": "scatterternary"
           }
          ],
          "surface": [
           {
            "colorbar": {
             "outlinewidth": 0,
             "ticks": ""
            },
            "colorscale": [
             [
              0,
              "#0d0887"
             ],
             [
              0.1111111111111111,
              "#46039f"
             ],
             [
              0.2222222222222222,
              "#7201a8"
             ],
             [
              0.3333333333333333,
              "#9c179e"
             ],
             [
              0.4444444444444444,
              "#bd3786"
             ],
             [
              0.5555555555555556,
              "#d8576b"
             ],
             [
              0.6666666666666666,
              "#ed7953"
             ],
             [
              0.7777777777777778,
              "#fb9f3a"
             ],
             [
              0.8888888888888888,
              "#fdca26"
             ],
             [
              1,
              "#f0f921"
             ]
            ],
            "type": "surface"
           }
          ],
          "table": [
           {
            "cells": {
             "fill": {
              "color": "#EBF0F8"
             },
             "line": {
              "color": "white"
             }
            },
            "header": {
             "fill": {
              "color": "#C8D4E3"
             },
             "line": {
              "color": "white"
             }
            },
            "type": "table"
           }
          ]
         },
         "layout": {
          "annotationdefaults": {
           "arrowcolor": "#2a3f5f",
           "arrowhead": 0,
           "arrowwidth": 1
          },
          "autotypenumbers": "strict",
          "coloraxis": {
           "colorbar": {
            "outlinewidth": 0,
            "ticks": ""
           }
          },
          "colorscale": {
           "diverging": [
            [
             0,
             "#8e0152"
            ],
            [
             0.1,
             "#c51b7d"
            ],
            [
             0.2,
             "#de77ae"
            ],
            [
             0.3,
             "#f1b6da"
            ],
            [
             0.4,
             "#fde0ef"
            ],
            [
             0.5,
             "#f7f7f7"
            ],
            [
             0.6,
             "#e6f5d0"
            ],
            [
             0.7,
             "#b8e186"
            ],
            [
             0.8,
             "#7fbc41"
            ],
            [
             0.9,
             "#4d9221"
            ],
            [
             1,
             "#276419"
            ]
           ],
           "sequential": [
            [
             0,
             "#0d0887"
            ],
            [
             0.1111111111111111,
             "#46039f"
            ],
            [
             0.2222222222222222,
             "#7201a8"
            ],
            [
             0.3333333333333333,
             "#9c179e"
            ],
            [
             0.4444444444444444,
             "#bd3786"
            ],
            [
             0.5555555555555556,
             "#d8576b"
            ],
            [
             0.6666666666666666,
             "#ed7953"
            ],
            [
             0.7777777777777778,
             "#fb9f3a"
            ],
            [
             0.8888888888888888,
             "#fdca26"
            ],
            [
             1,
             "#f0f921"
            ]
           ],
           "sequentialminus": [
            [
             0,
             "#0d0887"
            ],
            [
             0.1111111111111111,
             "#46039f"
            ],
            [
             0.2222222222222222,
             "#7201a8"
            ],
            [
             0.3333333333333333,
             "#9c179e"
            ],
            [
             0.4444444444444444,
             "#bd3786"
            ],
            [
             0.5555555555555556,
             "#d8576b"
            ],
            [
             0.6666666666666666,
             "#ed7953"
            ],
            [
             0.7777777777777778,
             "#fb9f3a"
            ],
            [
             0.8888888888888888,
             "#fdca26"
            ],
            [
             1,
             "#f0f921"
            ]
           ]
          },
          "colorway": [
           "#636efa",
           "#EF553B",
           "#00cc96",
           "#ab63fa",
           "#FFA15A",
           "#19d3f3",
           "#FF6692",
           "#B6E880",
           "#FF97FF",
           "#FECB52"
          ],
          "font": {
           "color": "#2a3f5f"
          },
          "geo": {
           "bgcolor": "white",
           "lakecolor": "white",
           "landcolor": "#E5ECF6",
           "showlakes": true,
           "showland": true,
           "subunitcolor": "white"
          },
          "hoverlabel": {
           "align": "left"
          },
          "hovermode": "closest",
          "mapbox": {
           "style": "light"
          },
          "paper_bgcolor": "white",
          "plot_bgcolor": "#E5ECF6",
          "polar": {
           "angularaxis": {
            "gridcolor": "white",
            "linecolor": "white",
            "ticks": ""
           },
           "bgcolor": "#E5ECF6",
           "radialaxis": {
            "gridcolor": "white",
            "linecolor": "white",
            "ticks": ""
           }
          },
          "scene": {
           "xaxis": {
            "backgroundcolor": "#E5ECF6",
            "gridcolor": "white",
            "gridwidth": 2,
            "linecolor": "white",
            "showbackground": true,
            "ticks": "",
            "zerolinecolor": "white"
           },
           "yaxis": {
            "backgroundcolor": "#E5ECF6",
            "gridcolor": "white",
            "gridwidth": 2,
            "linecolor": "white",
            "showbackground": true,
            "ticks": "",
            "zerolinecolor": "white"
           },
           "zaxis": {
            "backgroundcolor": "#E5ECF6",
            "gridcolor": "white",
            "gridwidth": 2,
            "linecolor": "white",
            "showbackground": true,
            "ticks": "",
            "zerolinecolor": "white"
           }
          },
          "shapedefaults": {
           "line": {
            "color": "#2a3f5f"
           }
          },
          "ternary": {
           "aaxis": {
            "gridcolor": "white",
            "linecolor": "white",
            "ticks": ""
           },
           "baxis": {
            "gridcolor": "white",
            "linecolor": "white",
            "ticks": ""
           },
           "bgcolor": "#E5ECF6",
           "caxis": {
            "gridcolor": "white",
            "linecolor": "white",
            "ticks": ""
           }
          },
          "title": {
           "x": 0.05
          },
          "xaxis": {
           "automargin": true,
           "gridcolor": "white",
           "linecolor": "white",
           "ticks": "",
           "title": {
            "standoff": 15
           },
           "zerolinecolor": "white",
           "zerolinewidth": 2
          },
          "yaxis": {
           "automargin": true,
           "gridcolor": "white",
           "linecolor": "white",
           "ticks": "",
           "title": {
            "standoff": 15
           },
           "zerolinecolor": "white",
           "zerolinewidth": 2
          }
         }
        },
        "title": {
         "font": {
          "size": 30
         },
         "text": "Track (Village) Popularity Since 2004",
         "x": 0.47
        },
        "width": 1200,
        "xaxis": {
         "anchor": "y",
         "domain": [
          0,
          1
         ],
         "tickmode": "array",
         "tickvals": [
          2004,
          2005,
          2006,
          2007,
          2008,
          2009,
          2010,
          2011,
          2012,
          2013,
          2014,
          2015,
          2016,
          2017,
          2018,
          2019,
          2020,
          2021,
          2022,
          2023,
          2024
         ],
         "title": {
          "font": {
           "size": 30
          },
          "text": "Year of Competition"
         }
        },
        "yaxis": {
         "anchor": "x",
         "domain": [
          0,
          1
         ],
         "gridcolor": "rgba(128, 128, 128, 0.2)",
         "title": {
          "font": {
           "size": 30
          },
          "text": "No. Teams in Each Track"
         }
        }
       }
      }
     },
     "metadata": {},
     "output_type": "display_data"
    }
   ],
   "source": [
    "import plotly.express as px\n",
    "#figure\n",
    "fig = px.bar(**FIG_SIZE, data_frame=supertrack_data[:-1], color_discrete_map = TRACK_COLORS)\n",
    "\n",
    "#axes\n",
    "AXIS_FORMAT = {'title_font_size':20}\n",
    "\n",
    "#x-axis\n",
    "xaxis_format = {**AXIS_FORMAT,\n",
    "                'title_text': 'Year of Competition',\n",
    "                'tickmode': 'array',\n",
    "                'tickvals': years}\n",
    "fig.update_xaxes(**xaxis_format, title = {'font_size':30})\n",
    "\n",
    "#y-axis\n",
    "yaxis_format = {**AXIS_FORMAT,\n",
    "                'title_text': 'No. Teams in Each Track',\n",
    "                'gridcolor': 'rgba(128, 128, 128, 0.2)'}\n",
    "fig.update_yaxes(**yaxis_format, title = {'font_size':30})\n",
    "\n",
    "#title\n",
    "title_format = {'title':{'font_size':30,\n",
    "                         'text':'Track (Village) Popularity Since 2004',\n",
    "                         'x':0.47}}\n",
    "fig.update_layout(**title_format)\n",
    "\n",
    "#legend\n",
    "legend_format = {'title_text':'Track Type'}\n",
    "fig.update_legends(**legend_format)\n",
    "\n",
    "#annotations\n",
    "fig.add_annotation(x=2008, y=100,\n",
    "            text='Prior to 2009 teams did not<br>declare specific tracks.',\n",
    "            showarrow=True,\n",
    "            arrowhead=1)\n",
    "\n",
    "from textwrap import wrap\n",
    "note = '*The other category includes non-specified projects as well as projects in the policy track, of which there have only ever been two projects'\n",
    "fig.add_annotation(text='<br>'.join(wrap(note, 30)),\n",
    "                  xref='paper', yref='paper',\n",
    "                  x=1.25, y=0.2, showarrow=False)\n",
    "\n",
    "\n",
    "#display Figure\n",
    "fig.show()\n",
    "fig.write_html('track_popularity_stacked_bar.html')"
   ]
  },
  {
   "cell_type": "code",
   "execution_count": null,
   "metadata": {},
   "outputs": [],
   "source": []
  }
 ],
 "metadata": {
  "kernelspec": {
   "display_name": "Python 3",
   "language": "python",
   "name": "python3"
  },
  "language_info": {
   "codemirror_mode": {
    "name": "ipython",
    "version": 3
   },
   "file_extension": ".py",
   "mimetype": "text/x-python",
   "name": "python",
   "nbconvert_exporter": "python",
   "pygments_lexer": "ipython3",
   "version": "3.10.11"
  }
 },
 "nbformat": 4,
 "nbformat_minor": 2
}
